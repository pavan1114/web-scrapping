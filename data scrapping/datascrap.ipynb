{
  "nbformat": 4,
  "nbformat_minor": 0,
  "metadata": {
    "colab": {
      "name": "Untitled4.ipynb",
      "provenance": []
    },
    "kernelspec": {
      "name": "python3",
      "display_name": "Python 3"
    },
    "language_info": {
      "name": "python"
    }
  },
  "cells": [
    {
      "cell_type": "code",
      "metadata": {
        "id": "h8jeTt_2lFcZ"
      },
      "source": [
        "import bs4 as bs\n",
        "import urllib.request as url_x\n",
        "import pandas as pd"
      ],
      "execution_count": 1,
      "outputs": []
    },
    {
      "cell_type": "code",
      "metadata": {
        "id": "dfo9vWUtlKF0"
      },
      "source": [
        "BusinesNames=[]\n",
        "Phone=[]\n",
        "Address=[]\n",
        "\n",
        "\n",
        "url = \"https://www.yelp.com/search?cflt=restaurants&find_loc=San+Francisco%2C+CA\"\n",
        "\n",
        "urlsource=''+url+'&start='"
      ],
      "execution_count": 5,
      "outputs": []
    },
    {
      "cell_type": "code",
      "metadata": {
        "colab": {
          "base_uri": "https://localhost:8080/"
        },
        "id": "UhhAWbZalK9P",
        "outputId": "482f7a12-5977-48ed-f116-2fe1492fba97"
      },
      "source": [
        "no_of_pages=5\n",
        "for iteration in range(no_of_pages):\n",
        "  s=iteration*10\n",
        "  if(s==0):\n",
        "    s=1\n",
        "  source = url_x.urlopen(urlsource+str(s))\n",
        "  print(urlsource+str(s))\n",
        "\n",
        "  page_soup = bs.BeautifulSoup(source, 'html.parser')\n",
        "\n",
        "  mains = page_soup.find_all(\"span\", {\"class\": \"  css-1pxmz4g\"})\n",
        "  for main in mains:\n",
        "      try:\n",
        "          busname = main.find(\"a\", {\"class\" : \"css-166la90\"}).text\n",
        "          BusinesNames.append(busname)\n",
        "      except:\n",
        "          print(\"Information not provided\")\n",
        "  print('Loading......')\n",
        "print('Done with processing...')"
      ],
      "execution_count": 9,
      "outputs": [
        {
          "output_type": "stream",
          "text": [
            "https://www.yelp.com/search?cflt=restaurants&find_loc=San+Francisco%2C+CA&start=1\n",
            "Loading......\n",
            "https://www.yelp.com/search?cflt=restaurants&find_loc=San+Francisco%2C+CA&start=10\n",
            "Loading......\n",
            "https://www.yelp.com/search?cflt=restaurants&find_loc=San+Francisco%2C+CA&start=20\n",
            "Loading......\n",
            "https://www.yelp.com/search?cflt=restaurants&find_loc=San+Francisco%2C+CA&start=30\n",
            "Loading......\n",
            "https://www.yelp.com/search?cflt=restaurants&find_loc=San+Francisco%2C+CA&start=40\n",
            "Loading......\n",
            "Done with processing...\n"
          ],
          "name": "stdout"
        }
      ]
    },
    {
      "cell_type": "code",
      "metadata": {
        "colab": {
          "base_uri": "https://localhost:8080/"
        },
        "id": "Pu91zTOEpV4U",
        "outputId": "229a73a1-9d4b-444d-c603-9707fffdce23"
      },
      "source": [
        "BusinesNames"
      ],
      "execution_count": 10,
      "outputs": [
        {
          "output_type": "execute_result",
          "data": {
            "text/plain": [
              "[]"
            ]
          },
          "metadata": {
            "tags": []
          },
          "execution_count": 10
        }
      ]
    },
    {
      "cell_type": "code",
      "metadata": {
        "colab": {
          "base_uri": "https://localhost:8080/"
        },
        "id": "wJcKl41DplSw",
        "outputId": "bd3ab1ca-5280-48e8-deed-e5d431bd6975"
      },
      "source": [
        "Phone"
      ],
      "execution_count": 11,
      "outputs": [
        {
          "output_type": "execute_result",
          "data": {
            "text/plain": [
              "[]"
            ]
          },
          "metadata": {
            "tags": []
          },
          "execution_count": 11
        }
      ]
    },
    {
      "cell_type": "code",
      "metadata": {
        "colab": {
          "base_uri": "https://localhost:8080/"
        },
        "id": "fy0x2jbmppAI",
        "outputId": "efb88fea-024c-4a06-c988-4b0135be4985"
      },
      "source": [
        "Address"
      ],
      "execution_count": 12,
      "outputs": [
        {
          "output_type": "execute_result",
          "data": {
            "text/plain": [
              "[]"
            ]
          },
          "metadata": {
            "tags": []
          },
          "execution_count": 12
        }
      ]
    },
    {
      "cell_type": "code",
      "metadata": {
        "colab": {
          "base_uri": "https://localhost:8080/",
          "height": 212
        },
        "id": "_64MGMdjptmo",
        "outputId": "9ae40ab6-3d42-4058-c890-ed98bc099798"
      },
      "source": [
        "dictionary = {'BusinessNames': BusinessNames, 'Phone': Phone, 'Address':Address} \n",
        "\n",
        "\n",
        "amul=pd.DataFrame(dict([(k,pd.Series(v)) for k,v in dictionary.items()]))"
      ],
      "execution_count": 13,
      "outputs": [
        {
          "output_type": "error",
          "ename": "NameError",
          "evalue": "ignored",
          "traceback": [
            "\u001b[0;31m---------------------------------------------------------------------------\u001b[0m",
            "\u001b[0;31mNameError\u001b[0m                                 Traceback (most recent call last)",
            "\u001b[0;32m<ipython-input-13-f67183f7c820>\u001b[0m in \u001b[0;36m<module>\u001b[0;34m()\u001b[0m\n\u001b[0;32m----> 1\u001b[0;31m \u001b[0mdictionary\u001b[0m \u001b[0;34m=\u001b[0m \u001b[0;34m{\u001b[0m\u001b[0;34m'BusinessNames'\u001b[0m\u001b[0;34m:\u001b[0m \u001b[0mBusinessNames\u001b[0m\u001b[0;34m,\u001b[0m \u001b[0;34m'Phone'\u001b[0m\u001b[0;34m:\u001b[0m \u001b[0mPhone\u001b[0m\u001b[0;34m,\u001b[0m \u001b[0;34m'Address'\u001b[0m\u001b[0;34m:\u001b[0m\u001b[0mAddress\u001b[0m\u001b[0;34m}\u001b[0m\u001b[0;34m\u001b[0m\u001b[0;34m\u001b[0m\u001b[0m\n\u001b[0m\u001b[1;32m      2\u001b[0m \u001b[0;34m\u001b[0m\u001b[0m\n\u001b[1;32m      3\u001b[0m \u001b[0;34m\u001b[0m\u001b[0m\n\u001b[1;32m      4\u001b[0m \u001b[0mamul\u001b[0m\u001b[0;34m=\u001b[0m\u001b[0mpd\u001b[0m\u001b[0;34m.\u001b[0m\u001b[0mDataFrame\u001b[0m\u001b[0;34m(\u001b[0m\u001b[0mdict\u001b[0m\u001b[0;34m(\u001b[0m\u001b[0;34m[\u001b[0m\u001b[0;34m(\u001b[0m\u001b[0mk\u001b[0m\u001b[0;34m,\u001b[0m\u001b[0mpd\u001b[0m\u001b[0;34m.\u001b[0m\u001b[0mSeries\u001b[0m\u001b[0;34m(\u001b[0m\u001b[0mv\u001b[0m\u001b[0;34m)\u001b[0m\u001b[0;34m)\u001b[0m \u001b[0;32mfor\u001b[0m \u001b[0mk\u001b[0m\u001b[0;34m,\u001b[0m\u001b[0mv\u001b[0m \u001b[0;32min\u001b[0m \u001b[0mdictionary\u001b[0m\u001b[0;34m.\u001b[0m\u001b[0mitems\u001b[0m\u001b[0;34m(\u001b[0m\u001b[0;34m)\u001b[0m\u001b[0;34m]\u001b[0m\u001b[0;34m)\u001b[0m\u001b[0;34m)\u001b[0m\u001b[0;34m\u001b[0m\u001b[0;34m\u001b[0m\u001b[0m\n",
            "\u001b[0;31mNameError\u001b[0m: name 'BusinessNames' is not defined"
          ]
        }
      ]
    },
    {
      "cell_type": "code",
      "metadata": {
        "colab": {
          "base_uri": "https://localhost:8080/",
          "height": 162
        },
        "id": "lpIQY0efqDP4",
        "outputId": "9386156b-abd7-4622-e5be-abaaf849cb02"
      },
      "source": [
        "amul\n"
      ],
      "execution_count": 14,
      "outputs": [
        {
          "output_type": "error",
          "ename": "NameError",
          "evalue": "ignored",
          "traceback": [
            "\u001b[0;31m---------------------------------------------------------------------------\u001b[0m",
            "\u001b[0;31mNameError\u001b[0m                                 Traceback (most recent call last)",
            "\u001b[0;32m<ipython-input-14-c5df02e4f489>\u001b[0m in \u001b[0;36m<module>\u001b[0;34m()\u001b[0m\n\u001b[0;32m----> 1\u001b[0;31m \u001b[0mamul\u001b[0m\u001b[0;34m\u001b[0m\u001b[0;34m\u001b[0m\u001b[0m\n\u001b[0m",
            "\u001b[0;31mNameError\u001b[0m: name 'amul' is not defined"
          ]
        }
      ]
    }
  ]
}